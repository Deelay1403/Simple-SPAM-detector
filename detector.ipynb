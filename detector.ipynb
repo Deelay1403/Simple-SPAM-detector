{
 "cells": [
  {
   "cell_type": "code",
   "id": "initial_id",
   "metadata": {
    "collapsed": true,
    "ExecuteTime": {
     "end_time": "2024-11-17T21:56:15.476980Z",
     "start_time": "2024-11-17T21:56:15.474500Z"
    }
   },
   "source": [
    "# AI Spam classifier\n",
    "import pandas as pd\n",
    "import matplotlib.pyplot as plt\n",
    "\n",
    "# import warnings filter\n",
    "from warnings import simplefilter\n",
    "# ignore all future warnings\n",
    "simplefilter(action='ignore', category=FutureWarning)"
   ],
   "outputs": [],
   "execution_count": 255
  },
  {
   "cell_type": "code",
   "id": "1754a9798792ed4c",
   "metadata": {
    "ExecuteTime": {
     "end_time": "2024-11-17T21:56:15.532923Z",
     "start_time": "2024-11-17T21:56:15.520505Z"
    }
   },
   "source": [
    "# Load the data\n",
    "df = pd.read_csv('spam.csv')\n",
    "df.head()"
   ],
   "outputs": [
    {
     "data": {
      "text/plain": [
       "  Category                                            Message\n",
       "0      ham  Go until jurong point, crazy.. Available only ...\n",
       "1      ham                      Ok lar... Joking wif u oni...\n",
       "2     spam  Free entry in 2 a wkly comp to win FA Cup fina...\n",
       "3      ham  U dun say so early hor... U c already then say...\n",
       "4      ham  Nah I don't think he goes to usf, he lives aro..."
      ],
      "text/html": [
       "<div>\n",
       "<style scoped>\n",
       "    .dataframe tbody tr th:only-of-type {\n",
       "        vertical-align: middle;\n",
       "    }\n",
       "\n",
       "    .dataframe tbody tr th {\n",
       "        vertical-align: top;\n",
       "    }\n",
       "\n",
       "    .dataframe thead th {\n",
       "        text-align: right;\n",
       "    }\n",
       "</style>\n",
       "<table border=\"1\" class=\"dataframe\">\n",
       "  <thead>\n",
       "    <tr style=\"text-align: right;\">\n",
       "      <th></th>\n",
       "      <th>Category</th>\n",
       "      <th>Message</th>\n",
       "    </tr>\n",
       "  </thead>\n",
       "  <tbody>\n",
       "    <tr>\n",
       "      <th>0</th>\n",
       "      <td>ham</td>\n",
       "      <td>Go until jurong point, crazy.. Available only ...</td>\n",
       "    </tr>\n",
       "    <tr>\n",
       "      <th>1</th>\n",
       "      <td>ham</td>\n",
       "      <td>Ok lar... Joking wif u oni...</td>\n",
       "    </tr>\n",
       "    <tr>\n",
       "      <th>2</th>\n",
       "      <td>spam</td>\n",
       "      <td>Free entry in 2 a wkly comp to win FA Cup fina...</td>\n",
       "    </tr>\n",
       "    <tr>\n",
       "      <th>3</th>\n",
       "      <td>ham</td>\n",
       "      <td>U dun say so early hor... U c already then say...</td>\n",
       "    </tr>\n",
       "    <tr>\n",
       "      <th>4</th>\n",
       "      <td>ham</td>\n",
       "      <td>Nah I don't think he goes to usf, he lives aro...</td>\n",
       "    </tr>\n",
       "  </tbody>\n",
       "</table>\n",
       "</div>"
      ]
     },
     "execution_count": 256,
     "metadata": {},
     "output_type": "execute_result"
    }
   ],
   "execution_count": 256
  },
  {
   "cell_type": "code",
   "id": "991343cccabbe701",
   "metadata": {
    "ExecuteTime": {
     "end_time": "2024-11-17T21:56:15.603409Z",
     "start_time": "2024-11-17T21:56:15.597648Z"
    }
   },
   "source": [
    "df.info()"
   ],
   "outputs": [
    {
     "name": "stdout",
     "output_type": "stream",
     "text": [
      "<class 'pandas.core.frame.DataFrame'>\n",
      "RangeIndex: 5572 entries, 0 to 5571\n",
      "Data columns (total 2 columns):\n",
      " #   Column    Non-Null Count  Dtype \n",
      "---  ------    --------------  ----- \n",
      " 0   Category  5572 non-null   object\n",
      " 1   Message   5572 non-null   object\n",
      "dtypes: object(2)\n",
      "memory usage: 87.2+ KB\n"
     ]
    }
   ],
   "execution_count": 257
  },
  {
   "cell_type": "code",
   "id": "4559446549cfd3c0",
   "metadata": {
    "ExecuteTime": {
     "end_time": "2024-11-17T21:56:15.702262Z",
     "start_time": "2024-11-17T21:56:15.698216Z"
    }
   },
   "source": [
    "# Drop nan rows\n",
    "df.dropna(inplace=True)"
   ],
   "outputs": [],
   "execution_count": 258
  },
  {
   "cell_type": "code",
   "id": "304ccfcdd8d6ffbd",
   "metadata": {
    "ExecuteTime": {
     "end_time": "2024-11-17T21:56:15.742621Z",
     "start_time": "2024-11-17T21:56:15.738860Z"
    }
   },
   "source": [
    "# show amount of spam and ham in numbers\n",
    "df['Category'].value_counts()"
   ],
   "outputs": [
    {
     "data": {
      "text/plain": [
       "Category\n",
       "ham     4825\n",
       "spam     747\n",
       "Name: count, dtype: int64"
      ]
     },
     "execution_count": 259,
     "metadata": {},
     "output_type": "execute_result"
    }
   ],
   "execution_count": 259
  },
  {
   "cell_type": "code",
   "id": "7841573e6668e94f",
   "metadata": {
    "ExecuteTime": {
     "end_time": "2024-11-17T21:56:15.793635Z",
     "start_time": "2024-11-17T21:56:15.790412Z"
    }
   },
   "source": [
    "# Create a pipeline to vectorize the data and train a classifier\n",
    "from sklearn.pipeline import Pipeline\n",
    "from sklearn.feature_extraction.text import TfidfVectorizer\n",
    "from sklearn.svm import LinearSVC\n",
    "\n",
    "text_clf = Pipeline([\n",
    "    ('tfidf', TfidfVectorizer()),\n",
    "    ('clf', LinearSVC())\n",
    "])"
   ],
   "outputs": [],
   "execution_count": 260
  },
  {
   "cell_type": "code",
   "id": "f68e7b3b316862e5",
   "metadata": {
    "ExecuteTime": {
     "end_time": "2024-11-17T21:56:15.846837Z",
     "start_time": "2024-11-17T21:56:15.838183Z"
    }
   },
   "source": [
    "# split data to make sure there is at least 80% of data for training\n",
    "spamLen = len(df[df['Category'] == \"spam\"])\n",
    "hamLen = len(df[df['Category'] == \"ham\"])\n",
    "\n",
    "x_train = pd.concat(\n",
    "    [df[df['Category'] == \"spam\"][:round(spamLen * 0.8)],\n",
    "     df[df['Category'] == \"ham\"][:round(hamLen * 0.8)]]\n",
    ")\n",
    "\n",
    "x_test = pd.concat(\n",
    "    [df[df['Category'] == \"spam\"][round(spamLen * 0.8):],\n",
    "     df[df['Category'] == \"ham\"][round(hamLen * 0.8):]]\n",
    ")"
   ],
   "outputs": [],
   "execution_count": 261
  },
  {
   "cell_type": "code",
   "id": "1b7ec9025daabe9f",
   "metadata": {
    "ExecuteTime": {
     "end_time": "2024-11-17T21:56:15.883206Z",
     "start_time": "2024-11-17T21:56:15.875991Z"
    }
   },
   "source": [
    "x_train.info()"
   ],
   "outputs": [
    {
     "name": "stdout",
     "output_type": "stream",
     "text": [
      "<class 'pandas.core.frame.DataFrame'>\n",
      "Index: 4458 entries, 2 to 4462\n",
      "Data columns (total 2 columns):\n",
      " #   Column    Non-Null Count  Dtype \n",
      "---  ------    --------------  ----- \n",
      " 0   Category  4458 non-null   object\n",
      " 1   Message   4458 non-null   object\n",
      "dtypes: object(2)\n",
      "memory usage: 104.5+ KB\n"
     ]
    }
   ],
   "execution_count": 262
  },
  {
   "cell_type": "code",
   "id": "e4db0a35fb1f4c3a",
   "metadata": {
    "ExecuteTime": {
     "end_time": "2024-11-17T21:56:15.921364Z",
     "start_time": "2024-11-17T21:56:15.914149Z"
    }
   },
   "source": [
    "x_test.info()"
   ],
   "outputs": [
    {
     "name": "stdout",
     "output_type": "stream",
     "text": [
      "<class 'pandas.core.frame.DataFrame'>\n",
      "Index: 1114 entries, 4407 to 5571\n",
      "Data columns (total 2 columns):\n",
      " #   Column    Non-Null Count  Dtype \n",
      "---  ------    --------------  ----- \n",
      " 0   Category  1114 non-null   object\n",
      " 1   Message   1114 non-null   object\n",
      "dtypes: object(2)\n",
      "memory usage: 26.1+ KB\n"
     ]
    }
   ],
   "execution_count": 263
  },
  {
   "cell_type": "code",
   "id": "424eb16f9b684713",
   "metadata": {
    "ExecuteTime": {
     "end_time": "2024-11-17T21:56:15.972765Z",
     "start_time": "2024-11-17T21:56:15.969059Z"
    }
   },
   "source": [
    "# assert that the data is split correctly\n",
    "assert len(x_train) + len(x_test) == len(df)\n",
    "\n",
    "# assert is index is unique and there no duplicates between train and test\n",
    "assert x_train.index.is_unique\n",
    "assert x_test.index.is_unique\n",
    "assert len(x_train.index.intersection(x_test.index)) == 0"
   ],
   "outputs": [],
   "execution_count": 264
  },
  {
   "cell_type": "code",
   "id": "8730c86f3af2dba3",
   "metadata": {
    "ExecuteTime": {
     "end_time": "2024-11-17T21:56:16.018339Z",
     "start_time": "2024-11-17T21:56:16.015602Z"
    }
   },
   "source": [
    "x_train, y_train, x_test, y_test = x_train['Message'], x_train['Category'], x_test['Message'], x_test['Category']"
   ],
   "outputs": [],
   "execution_count": 265
  },
  {
   "cell_type": "code",
   "id": "d36e7f6a6b1d3bb0",
   "metadata": {
    "ExecuteTime": {
     "end_time": "2024-11-17T21:56:16.120762Z",
     "start_time": "2024-11-17T21:56:16.062439Z"
    }
   },
   "source": [
    "# Train the classifier\n",
    "text_clf.fit(x_train, y_train)"
   ],
   "outputs": [
    {
     "data": {
      "text/plain": [
       "Pipeline(steps=[('tfidf', TfidfVectorizer()), ('clf', LinearSVC())])"
      ],
      "text/html": [
       "<style>#sk-container-id-12 {color: black;}#sk-container-id-12 pre{padding: 0;}#sk-container-id-12 div.sk-toggleable {background-color: white;}#sk-container-id-12 label.sk-toggleable__label {cursor: pointer;display: block;width: 100%;margin-bottom: 0;padding: 0.3em;box-sizing: border-box;text-align: center;}#sk-container-id-12 label.sk-toggleable__label-arrow:before {content: \"▸\";float: left;margin-right: 0.25em;color: #696969;}#sk-container-id-12 label.sk-toggleable__label-arrow:hover:before {color: black;}#sk-container-id-12 div.sk-estimator:hover label.sk-toggleable__label-arrow:before {color: black;}#sk-container-id-12 div.sk-toggleable__content {max-height: 0;max-width: 0;overflow: hidden;text-align: left;background-color: #f0f8ff;}#sk-container-id-12 div.sk-toggleable__content pre {margin: 0.2em;color: black;border-radius: 0.25em;background-color: #f0f8ff;}#sk-container-id-12 input.sk-toggleable__control:checked~div.sk-toggleable__content {max-height: 200px;max-width: 100%;overflow: auto;}#sk-container-id-12 input.sk-toggleable__control:checked~label.sk-toggleable__label-arrow:before {content: \"▾\";}#sk-container-id-12 div.sk-estimator input.sk-toggleable__control:checked~label.sk-toggleable__label {background-color: #d4ebff;}#sk-container-id-12 div.sk-label input.sk-toggleable__control:checked~label.sk-toggleable__label {background-color: #d4ebff;}#sk-container-id-12 input.sk-hidden--visually {border: 0;clip: rect(1px 1px 1px 1px);clip: rect(1px, 1px, 1px, 1px);height: 1px;margin: -1px;overflow: hidden;padding: 0;position: absolute;width: 1px;}#sk-container-id-12 div.sk-estimator {font-family: monospace;background-color: #f0f8ff;border: 1px dotted black;border-radius: 0.25em;box-sizing: border-box;margin-bottom: 0.5em;}#sk-container-id-12 div.sk-estimator:hover {background-color: #d4ebff;}#sk-container-id-12 div.sk-parallel-item::after {content: \"\";width: 100%;border-bottom: 1px solid gray;flex-grow: 1;}#sk-container-id-12 div.sk-label:hover label.sk-toggleable__label {background-color: #d4ebff;}#sk-container-id-12 div.sk-serial::before {content: \"\";position: absolute;border-left: 1px solid gray;box-sizing: border-box;top: 0;bottom: 0;left: 50%;z-index: 0;}#sk-container-id-12 div.sk-serial {display: flex;flex-direction: column;align-items: center;background-color: white;padding-right: 0.2em;padding-left: 0.2em;position: relative;}#sk-container-id-12 div.sk-item {position: relative;z-index: 1;}#sk-container-id-12 div.sk-parallel {display: flex;align-items: stretch;justify-content: center;background-color: white;position: relative;}#sk-container-id-12 div.sk-item::before, #sk-container-id-12 div.sk-parallel-item::before {content: \"\";position: absolute;border-left: 1px solid gray;box-sizing: border-box;top: 0;bottom: 0;left: 50%;z-index: -1;}#sk-container-id-12 div.sk-parallel-item {display: flex;flex-direction: column;z-index: 1;position: relative;background-color: white;}#sk-container-id-12 div.sk-parallel-item:first-child::after {align-self: flex-end;width: 50%;}#sk-container-id-12 div.sk-parallel-item:last-child::after {align-self: flex-start;width: 50%;}#sk-container-id-12 div.sk-parallel-item:only-child::after {width: 0;}#sk-container-id-12 div.sk-dashed-wrapped {border: 1px dashed gray;margin: 0 0.4em 0.5em 0.4em;box-sizing: border-box;padding-bottom: 0.4em;background-color: white;}#sk-container-id-12 div.sk-label label {font-family: monospace;font-weight: bold;display: inline-block;line-height: 1.2em;}#sk-container-id-12 div.sk-label-container {text-align: center;}#sk-container-id-12 div.sk-container {/* jupyter's `normalize.less` sets `[hidden] { display: none; }` but bootstrap.min.css set `[hidden] { display: none !important; }` so we also need the `!important` here to be able to override the default hidden behavior on the sphinx rendered scikit-learn.org. See: https://github.com/scikit-learn/scikit-learn/issues/21755 */display: inline-block !important;position: relative;}#sk-container-id-12 div.sk-text-repr-fallback {display: none;}</style><div id=\"sk-container-id-12\" class=\"sk-top-container\"><div class=\"sk-text-repr-fallback\"><pre>Pipeline(steps=[(&#x27;tfidf&#x27;, TfidfVectorizer()), (&#x27;clf&#x27;, LinearSVC())])</pre><b>In a Jupyter environment, please rerun this cell to show the HTML representation or trust the notebook. <br />On GitHub, the HTML representation is unable to render, please try loading this page with nbviewer.org.</b></div><div class=\"sk-container\" hidden><div class=\"sk-item sk-dashed-wrapped\"><div class=\"sk-label-container\"><div class=\"sk-label sk-toggleable\"><input class=\"sk-toggleable__control sk-hidden--visually\" id=\"sk-estimator-id-34\" type=\"checkbox\" ><label for=\"sk-estimator-id-34\" class=\"sk-toggleable__label sk-toggleable__label-arrow\">Pipeline</label><div class=\"sk-toggleable__content\"><pre>Pipeline(steps=[(&#x27;tfidf&#x27;, TfidfVectorizer()), (&#x27;clf&#x27;, LinearSVC())])</pre></div></div></div><div class=\"sk-serial\"><div class=\"sk-item\"><div class=\"sk-estimator sk-toggleable\"><input class=\"sk-toggleable__control sk-hidden--visually\" id=\"sk-estimator-id-35\" type=\"checkbox\" ><label for=\"sk-estimator-id-35\" class=\"sk-toggleable__label sk-toggleable__label-arrow\">TfidfVectorizer</label><div class=\"sk-toggleable__content\"><pre>TfidfVectorizer()</pre></div></div></div><div class=\"sk-item\"><div class=\"sk-estimator sk-toggleable\"><input class=\"sk-toggleable__control sk-hidden--visually\" id=\"sk-estimator-id-36\" type=\"checkbox\" ><label for=\"sk-estimator-id-36\" class=\"sk-toggleable__label sk-toggleable__label-arrow\">LinearSVC</label><div class=\"sk-toggleable__content\"><pre>LinearSVC()</pre></div></div></div></div></div></div></div>"
      ]
     },
     "execution_count": 266,
     "metadata": {},
     "output_type": "execute_result"
    }
   ],
   "execution_count": 266
  },
  {
   "cell_type": "code",
   "id": "3fb1e30c9a25a38f",
   "metadata": {
    "ExecuteTime": {
     "end_time": "2024-11-17T21:56:16.153364Z",
     "start_time": "2024-11-17T21:56:16.148903Z"
    }
   },
   "source": [
    "# Test the model\n",
    "assert text_clf.predict([\"Hey, how are you?\"]) == ['ham']\n",
    "assert text_clf.predict([\"You are the winner of big price! Click link bellow\"]) == ['spam']"
   ],
   "outputs": [],
   "execution_count": 267
  },
  {
   "cell_type": "code",
   "id": "2f3c2ed586e48915",
   "metadata": {
    "ExecuteTime": {
     "end_time": "2024-11-17T21:56:16.227512Z",
     "start_time": "2024-11-17T21:56:16.196156Z"
    }
   },
   "source": [
    "# Evaluate the model\n",
    "from sklearn.metrics import confusion_matrix, classification_report\n",
    "\n",
    "predictions = text_clf.predict(x_test)\n",
    "print(confusion_matrix(y_test, predictions))\n",
    "print(classification_report(y_test, predictions))"
   ],
   "outputs": [
    {
     "name": "stdout",
     "output_type": "stream",
     "text": [
      "[[962   3]\n",
      " [ 11 138]]\n",
      "              precision    recall  f1-score   support\n",
      "\n",
      "         ham       0.99      1.00      0.99       965\n",
      "        spam       0.98      0.93      0.95       149\n",
      "\n",
      "    accuracy                           0.99      1114\n",
      "   macro avg       0.98      0.96      0.97      1114\n",
      "weighted avg       0.99      0.99      0.99      1114\n",
      "\n"
     ]
    }
   ],
   "execution_count": 268
  },
  {
   "cell_type": "code",
   "id": "7ce833f25897a909",
   "metadata": {
    "ExecuteTime": {
     "end_time": "2024-11-17T21:56:16.314469Z",
     "start_time": "2024-11-17T21:56:16.251333Z"
    }
   },
   "source": [
    "# Present data as confusion matrix\n",
    "import seaborn as sns\n",
    "\n",
    "confusion = confusion_matrix(y_test, predictions, labels=['ham', 'spam'])\n",
    "# display numbers in nonscientific notation\n",
    "plt.figure(figsize=(10, 7))\n",
    "sns.heatmap(confusion, annot=True, fmt='g', cbar=False, xticklabels=['ham', 'spam'], yticklabels=['ham', 'spam'])\n",
    "plt.xlabel('Predicted')\n",
    "plt.ylabel('Truth')\n",
    "plt.title(f'Confusion matrix for spam classifier - accuracy: {(confusion[0, 0] + confusion[1, 1]) / len(y_test) }')\n",
    "plt.show()"
   ],
   "outputs": [
    {
     "data": {
      "text/plain": [
       "<Figure size 1000x700 with 1 Axes>"
      ],
      "image/png": "[encoded data removed]"
     },
     "metadata": {},
     "output_type": "display_data"
    }
   ],
   "execution_count": 269
  }
 ],
 "metadata": {
  "kernelspec": {
   "display_name": "Python 3",
   "language": "python",
   "name": "python3"
  },
  "language_info": {
   "codemirror_mode": {
    "name": "ipython",
    "version": 2
   },
   "file_extension": ".py",
   "mimetype": "text/x-python",
   "name": "python",
   "nbconvert_exporter": "python",
   "pygments_lexer": "ipython2",
   "version": "2.7.6"
  }
 },
 "nbformat": 4,
 "nbformat_minor": 5
}
